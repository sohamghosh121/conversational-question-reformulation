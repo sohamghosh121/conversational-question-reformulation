{
 "cells": [
  {
   "cell_type": "code",
   "execution_count": 1,
   "metadata": {},
   "outputs": [],
   "source": [
    "import json\n",
    "from allennlp.models import archival\n",
    "\n",
    "from models.predictor import DialogQAPredictor\n",
    "from models.dialog_qa_ctx import DialogQA\n",
    "from models.readers import QuACReader\n",
    "from allennlp.common.params import Params"
   ]
  },
  {
   "cell_type": "code",
   "execution_count": 2,
   "metadata": {},
   "outputs": [],
   "source": [
    "EXP_NAME = 'ant_TRUE__men_TRUE__k1__c_uniform'\n",
    "MODEL_PATH = '/Users/sohamghosh/Documents/CMU/Courses/quac/exp_dir/'\n",
    "NUM_TURNS = 1\n",
    "\n",
    "def from_archive(archive):\n",
    "    config = archive.config.duplicate()\n",
    "    dataset_reader_params = config[\"dataset_reader\"]\n",
    "    dataset_reader_params.pop('type')\n",
    "    dataset_reader = QuACReader.from_params(dataset_reader_params)\n",
    "    model = archive.model\n",
    "    model.eval()\n",
    "    return DialogQAPredictor(model, dataset_reader)"
   ]
  },
  {
   "cell_type": "code",
   "execution_count": 3,
   "metadata": {},
   "outputs": [
    {
     "name": "stdout",
     "output_type": "stream",
     "text": [
      "INIT MODEL\n"
     ]
    }
   ],
   "source": [
    "import os\n",
    "\n",
    "archive = archival.load_archive(os.path.join(MODEL_PATH, EXP_NAME, 'model.tar.gz'))\n",
    "predictor = from_archive(archive)"
   ]
  },
  {
   "cell_type": "code",
   "execution_count": 4,
   "metadata": {},
   "outputs": [],
   "source": [
    "data = json.load(open('./data/val-small.json'))['data']"
   ]
  },
  {
   "cell_type": "code",
   "execution_count": 5,
   "metadata": {},
   "outputs": [],
   "source": [
    "% matplotlib inline\n",
    "from matplotlib import pyplot as plt\n",
    "import numpy as np\n",
    "\n",
    "def plot_attention(attn, y_labels, x_labels, figsize):\n",
    "    plt.figure(figsize=figsize)\n",
    "    fig, ax1 = plt.subplots(1,1, figsize=figsize)\n",
    "    attn = attn[:len(y_labels), :len(x_labels)]\n",
    "    heatmap = ax1.imshow(attn, cmap=\"magma\", interpolation='nearest')\n",
    "    ax1.set_xticks(np.arange(len(x_labels)))\n",
    "    ax1.set_yticks(np.arange(len(y_labels)))\n",
    "    if x_labels is not None and y_labels is not None:\n",
    "        ax1.set_xticklabels(x_labels)\n",
    "        ax1.set_yticklabels(y_labels)\n",
    "    plt.setp(ax1.get_xticklabels(), rotation=45, ha=\"right\",\n",
    "         rotation_mode=\"anchor\")\n",
    "    plt.colorbar(heatmap)\n",
    "    plt.show()"
   ]
  },
  {
   "cell_type": "code",
   "execution_count": 6,
   "metadata": {},
   "outputs": [],
   "source": [
    "def get_results(ex, predictor):\n",
    "    for qa in ex['paragraphs'][0]['qas']:\n",
    "        qa['answer'] = qa['orig_answer']['text']\n",
    "        qa['answer_start'] = qa['orig_answer']['answer_start']\n",
    "    return predictor.predict_instance(predictor._json_to_instance([ex]))"
   ]
  },
  {
   "cell_type": "code",
   "execution_count": 15,
   "metadata": {
    "scrolled": false
   },
   "outputs": [
    {
     "name": "stdout",
     "output_type": "stream",
     "text": [
      "21\n",
      "13\n",
      "13\n",
      "13\n",
      "13\n",
      "13\n",
      "13\n",
      "13\n",
      "13\n",
      "21\n",
      "21\n",
      "21\n",
      "21\n",
      "21\n",
      "21\n",
      "21\n",
      "21\n"
     ]
    },
    {
     "name": "stderr",
     "output_type": "stream",
     "text": [
      "/anaconda3/lib/python3.6/site-packages/torch/tensor.py:263: UserWarning: non-inplace resize is deprecated\n",
      "  warnings.warn(\"non-inplace resize is deprecated\")\n"
     ]
    }
   ],
   "source": [
    "EXAMPLE_IX = 1\n",
    "pred = get_results(data[EXAMPLE_IX], predictor)"
   ]
  },
  {
   "cell_type": "code",
   "execution_count": 9,
   "metadata": {},
   "outputs": [],
   "source": [
    "weights_qa = np.array(pred['weights_qa'])\n",
    "weights_qq = np.array(pred['weights_qq'])\n",
    "sm_att_as = np.array(pred['sm_att_as'])\n",
    "sm_att_qs = np.array(pred['sm_att_qs'])\n",
    "passage_question_attention = np.array(pred['passage_question_attention'])"
   ]
  },
  {
   "cell_type": "code",
   "execution_count": 16,
   "metadata": {},
   "outputs": [
    {
     "data": {
      "text/plain": [
       "{'title': 'The murder remains unsolved, 2016',\n",
       " 'paragraphs': [{'context': 'In September 2016 Vladimir Markin, official spokesman for the Investigative Committee, included the killing of Anna Politkovskaya among the Most Dramatic Crimes in 21st century Russia and claimed that it had been solved. Her colleagues at Novaya gazeta protested that until the instigator or sponsor of the crime was identified, arrested and prosecuted the case was not closed. On 7 October 2016 Novaya gazeta released a video clip of its editors, correspondents, photographers and technical and administrative staff holding text-boards giving details of the case and stating, repeatedly, \"The sponsor of Anna\\'s murder has not been found\". On the same day deputy chief editor Sergei Sokolov published a damning summary of the official investigation, describing its false turns and shortcomings, and emphasised that it had now effectively been wound up. After the three Makhmudov brothers, Khadjikurbanov and Lom-Ali Gaitukayev were convicted in 2014, wrote Sokolov, the once large team of investigators was reduced to one person and within a year he retired, to be replaced by a lower-ranking investigator. In accordance with Russian law there is a 15-year statute of limitation for the \"particularly grave\" crime of first degree murder. The 2000 killing of Igor Domnikov, another Novaya gazeta journalist, showed that the perpetrators might be identified (they were convicted in 2008), as was the businessman-intermediary who hired them (he was sentenced in December 2013 to seven years\\' imprisonment). The man allegedly responsible for ordering the attack on Domnikov was brought to court in 2015. In May that year the case against him was discontinued because the statute of limitations had expired. The Intercept published a top-secret document released by Edward Snowden with a screenshot of Intellipedia according to which (TS//SI/REL TO USA, AUS, CAN, GBR, NZL) Russian Federal Intelligence Services (probably FSB) are known to have targeted the webmail account of the murdered Russian journalist Anna Politkovskaya. On 5 December 2005, RFIS initiated an attack against the account annapolitovskaya@US Provider1, by deploying malicious software which is not available in the public domain. It is not known whether the attack is in any way associated with the death of the journalist.[1] CANNOTANSWER',\n",
       "   'qas': [{'followup': 'n',\n",
       "     'yesno': 'y',\n",
       "     'question': 'Did they have any clues?',\n",
       "     'answers': [{'answer_start': 221,\n",
       "       'text': 'Her colleagues at Novaya gazeta protested that until the instigator or sponsor of the crime was identified, arrested and prosecuted the case was not closed.'},\n",
       "      {'answer_start': 396,\n",
       "       'text': 'Novaya gazeta released a video clip of its editors, correspondents, photographers and technical and administrative staff holding text-boards giving details of the case'},\n",
       "      {'answer_start': 1908,\n",
       "       'text': 'probably FSB) are known to have targeted the webmail account of the murdered Russian journalist Anna Politkovskaya.'}],\n",
       "     'id': 'C_0aaa843df0bd467b96e5a496fc0b033d_1_q#0',\n",
       "     'orig_answer': {'answer_start': 1908,\n",
       "      'text': 'probably FSB) are known to have targeted the webmail account of the murdered Russian journalist Anna Politkovskaya.'},\n",
       "     'answer': 'probably FSB) are known to have targeted the webmail account of the murdered Russian journalist Anna Politkovskaya.',\n",
       "     'answer_start': 1908},\n",
       "    {'followup': 'n',\n",
       "     'yesno': 'x',\n",
       "     'question': 'How did they target her email?',\n",
       "     'answers': [{'answer_start': 2044,\n",
       "       'text': 'RFIS initiated an attack against the account annapolitovskaya@US Provider1, by deploying malicious software which is not available in the public domain.'},\n",
       "      {'answer_start': 2024,\n",
       "       'text': 'On 5 December 2005, RFIS initiated an attack against the account annapolitovskaya@US Provider1, by deploying malicious software'},\n",
       "      {'answer_start': 2024,\n",
       "       'text': 'On 5 December 2005, RFIS initiated an attack against the account annapolitovskaya@US Provider1, by deploying malicious software which is not available in the public domain.'},\n",
       "      {'answer_start': 2044,\n",
       "       'text': 'RFIS initiated an attack against the account annapolitovskaya@US Provider1, by deploying malicious software which is not available in the public domain.'},\n",
       "      {'answer_start': 2024,\n",
       "       'text': 'On 5 December 2005, RFIS initiated an attack against the account annapolitovskaya@US Provider1, by deploying malicious software'}],\n",
       "     'id': 'C_0aaa843df0bd467b96e5a496fc0b033d_1_q#1',\n",
       "     'orig_answer': {'answer_start': 2024,\n",
       "      'text': 'On 5 December 2005, RFIS initiated an attack against the account annapolitovskaya@US Provider1, by deploying malicious software'},\n",
       "     'answer': 'On 5 December 2005, RFIS initiated an attack against the account annapolitovskaya@US Provider1, by deploying malicious software',\n",
       "     'answer_start': 2024},\n",
       "    {'followup': 'n',\n",
       "     'yesno': 'x',\n",
       "     'question': 'Did they get into trouble for that?',\n",
       "     'answers': [{'answer_start': 2294, 'text': 'CANNOTANSWER'},\n",
       "      {'answer_start': 2294, 'text': 'CANNOTANSWER'},\n",
       "      {'answer_start': 2294, 'text': 'CANNOTANSWER'}],\n",
       "     'id': 'C_0aaa843df0bd467b96e5a496fc0b033d_1_q#2',\n",
       "     'orig_answer': {'answer_start': 2294, 'text': 'CANNOTANSWER'},\n",
       "     'answer': 'CANNOTANSWER',\n",
       "     'answer_start': 2294},\n",
       "    {'followup': 'n',\n",
       "     'yesno': 'x',\n",
       "     'question': 'Did they have any murder suspects?',\n",
       "     'answers': [{'answer_start': 889,\n",
       "       'text': 'Khadjikurbanov and Lom-Ali Gaitukayev were convicted in 2014,'},\n",
       "      {'answer_start': 859,\n",
       "       'text': 'the three Makhmudov brothers, Khadjikurbanov and Lom-Ali Gaitukayev were convicted in 2014,'},\n",
       "      {'answer_start': 853,\n",
       "       'text': 'After the three Makhmudov brothers, Khadjikurbanov and Lom-Ali Gaitukayev were convicted in 2014,'},\n",
       "      {'answer_start': 853,\n",
       "       'text': 'After the three Makhmudov brothers, Khadjikurbanov and Lom-Ali Gaitukayev were convicted in 2014,'}],\n",
       "     'id': 'C_0aaa843df0bd467b96e5a496fc0b033d_1_q#3',\n",
       "     'orig_answer': {'answer_start': 853,\n",
       "      'text': 'After the three Makhmudov brothers, Khadjikurbanov and Lom-Ali Gaitukayev were convicted in 2014,'},\n",
       "     'answer': 'After the three Makhmudov brothers, Khadjikurbanov and Lom-Ali Gaitukayev were convicted in 2014,',\n",
       "     'answer_start': 853},\n",
       "    {'followup': 'm',\n",
       "     'yesno': 'x',\n",
       "     'question': 'Did they go to jail?',\n",
       "     'answers': [{'answer_start': 2294, 'text': 'CANNOTANSWER'},\n",
       "      {'answer_start': 2294, 'text': 'CANNOTANSWER'},\n",
       "      {'answer_start': 2294, 'text': 'CANNOTANSWER'}],\n",
       "     'id': 'C_0aaa843df0bd467b96e5a496fc0b033d_1_q#4',\n",
       "     'orig_answer': {'answer_start': 2294, 'text': 'CANNOTANSWER'},\n",
       "     'answer': 'CANNOTANSWER',\n",
       "     'answer_start': 2294},\n",
       "    {'followup': 'y',\n",
       "     'yesno': 'x',\n",
       "     'question': 'Is there anything else interesting in the article?',\n",
       "     'answers': [{'answer_start': 96,\n",
       "       'text': 'the killing of Anna Politkovskaya among the Most Dramatic Crimes in 21st century Russia and claimed that it had been solved.'},\n",
       "      {'answer_start': 2197,\n",
       "       'text': 'It is not known whether the attack is in any way associated with the death of the journalist.[1]'},\n",
       "      {'answer_start': 221,\n",
       "       'text': 'Her colleagues at Novaya gazeta protested that until the instigator or sponsor of the crime was identified, arrested and prosecuted the case was not closed.'},\n",
       "      {'answer_start': 378,\n",
       "       'text': 'On 7 October 2016 Novaya gazeta released a video clip of its editors, correspondents, photographers and technical and administrative staff holding text-boards giving details of the case'},\n",
       "      {'answer_start': 1107,\n",
       "       'text': 'In accordance with Russian law there is a 15-year statute of limitation for the \"particularly grave\" crime of first degree murder.'}],\n",
       "     'id': 'C_0aaa843df0bd467b96e5a496fc0b033d_1_q#5',\n",
       "     'orig_answer': {'answer_start': 1107,\n",
       "      'text': 'In accordance with Russian law there is a 15-year statute of limitation for the \"particularly grave\" crime of first degree murder.'},\n",
       "     'answer': 'In accordance with Russian law there is a 15-year statute of limitation for the \"particularly grave\" crime of first degree murder.',\n",
       "     'answer_start': 1107},\n",
       "    {'followup': 'n',\n",
       "     'yesno': 'n',\n",
       "     'question': 'Are they close to solving it?',\n",
       "     'answers': [{'answer_start': 1356,\n",
       "       'text': \"(they were convicted in 2008), as was the businessman-intermediary who hired them (he was sentenced in December 2013 to seven years' imprisonment).\"},\n",
       "      {'answer_start': 966,\n",
       "       'text': 'the once large team of investigators was reduced to one person and within a year he retired, to be replaced by a lower-ranking investigator.'},\n",
       "      {'answer_start': 1600,\n",
       "       'text': 'In May that year the case against him was discontinued because the statute of limitations had expired.'}],\n",
       "     'id': 'C_0aaa843df0bd467b96e5a496fc0b033d_1_q#6',\n",
       "     'orig_answer': {'answer_start': 1600,\n",
       "      'text': 'In May that year the case against him was discontinued because the statute of limitations had expired.'},\n",
       "     'answer': 'In May that year the case against him was discontinued because the statute of limitations had expired.',\n",
       "     'answer_start': 1600},\n",
       "    {'followup': 'n',\n",
       "     'yesno': 'x',\n",
       "     'question': 'Is it similar to any other cases?',\n",
       "     'answers': [{'answer_start': 1501,\n",
       "       'text': '). The man allegedly responsible for ordering the attack on Domnikov was brought to court in 2015.'},\n",
       "      {'answer_start': 1238,\n",
       "       'text': 'The 2000 killing of Igor Domnikov, another Novaya gazeta journalist, showed that the perpetrators might be identified'},\n",
       "      {'answer_start': 1703,\n",
       "       'text': 'The Intercept published a top-secret document released by Edward Snowden with a screenshot of Intellipedia according to which'}],\n",
       "     'id': 'C_0aaa843df0bd467b96e5a496fc0b033d_1_q#7',\n",
       "     'orig_answer': {'answer_start': 1703,\n",
       "      'text': 'The Intercept published a top-secret document released by Edward Snowden with a screenshot of Intellipedia according to which'},\n",
       "     'answer': 'The Intercept published a top-secret document released by Edward Snowden with a screenshot of Intellipedia according to which',\n",
       "     'answer_start': 1703}],\n",
       "   'id': 'C_0aaa843df0bd467b96e5a496fc0b033d_1'}]}"
      ]
     },
     "execution_count": 16,
     "metadata": {},
     "output_type": "execute_result"
    }
   ],
   "source": []
  },
  {
   "cell_type": "code",
   "execution_count": 18,
   "metadata": {
    "scrolled": false
   },
   "outputs": [
    {
     "name": "stdout",
     "output_type": "stream",
     "text": [
      " TURN : 1 \n",
      " TURN : 2 \n",
      " TURN : 3 \n",
      " TURN : 4 \n",
      " TURN : 5 \n",
      " TURN : 6 \n",
      "Question (t-1) attention\n"
     ]
    },
    {
     "data": {
      "text/plain": [
       "<Figure size 576x576 with 0 Axes>"
      ]
     },
     "metadata": {},
     "output_type": "display_data"
    },
    {
     "data": {
      "image/png": "[encoded data removed]",
      "text/plain": [
       "<Figure size 576x576 with 2 Axes>"
      ]
     },
     "metadata": {},
     "output_type": "display_data"
    },
    {
     "name": "stdout",
     "output_type": "stream",
     "text": [
      " TURN : 7 \n"
     ]
    }
   ],
   "source": [
    "import numpy as np\n",
    "\n",
    "followups = np.array([qa['followup'] for qa in data[EXAMPLE_IX]['paragraphs'][0]['qas']])\n",
    "for turn in range(1, sm_att_qs.shape[1]):\n",
    "    print(\"\"\" TURN : {} \"\"\".format(turn))\n",
    "    for prev_turn in range(NUM_TURNS - 1, -1, -1):\n",
    "        if np.all(followups[turn - prev_turn - 1:turn] == 'y'):\n",
    "            print(\"Question (t-{}) attention\".format(prev_turn + 1))\n",
    "            _ = plot_attention(sm_att_qs[prev_turn, turn, :, :].T, pred['question_tokens'][turn - prev_turn - 1], pred['question_tokens'][turn], (8,8))\n"
   ]
  },
  {
   "cell_type": "code",
   "execution_count": null,
   "metadata": {},
   "outputs": [],
   "source": []
  },
  {
   "cell_type": "code",
   "execution_count": 20,
   "metadata": {
    "scrolled": false
   },
   "outputs": [
    {
     "name": "stdout",
     "output_type": "stream",
     "text": [
      "Answer (t-1) attention\n",
      "(23, 9)\n"
     ]
    },
    {
     "data": {
      "text/plain": [
       "<Figure size 720x1008 with 0 Axes>"
      ]
     },
     "metadata": {},
     "output_type": "display_data"
    },
    {
     "data": {
      "image/png": "[encoded data removed]",
      "text/plain": [
       "<Figure size 720x1008 with 2 Axes>"
      ]
     },
     "metadata": {},
     "output_type": "display_data"
    }
   ],
   "source": [
    "followups = np.array([qa['followup'] for qa in data[EXAMPLE_IX]['paragraphs'][0]['qas']])\n",
    "for turn in range(1, sm_att_qs.shape[1]):\n",
    "    for prev_turn in range(NUM_TURNS - 1, -1, -1):\n",
    "        if np.all(followups[turn - prev_turn - 1:turn] == 'y'):\n",
    "            print(\"Answer (t-{}) attention\".format(prev_turn + 1))\n",
    "            print(sm_att_as[prev_turn, turn, :, :].T.shape)\n",
    "            _ = plot_attention(sm_att_as[prev_turn, turn, :, :].T, pred['answer_tokens'][turn - prev_turn - 1][0].split(), pred['question_tokens'][turn], (10,14))\n"
   ]
  },
  {
   "cell_type": "code",
   "execution_count": 12,
   "metadata": {},
   "outputs": [],
   "source": [
    "if NUM_TURNS > 1:\n",
    "    print(\"Hierarchical Attention\")\n",
    "    _ = plot_attention(weights_qa[:, turn, :],\n",
    "                       ['t - ' + str(i + 1) for i in range(NUM_TURNS)],\n",
    "                       pred['question_tokens'][turn],\n",
    "                       (10,10))\n",
    "\n",
    "\n",
    "    NUM_TURNS = weights_qa.shape[0]\n",
    "    _ = plot_attention(weights_qq[:, turn, :],\n",
    "                       ['t - ' + str(i + 1) for i in range(NUM_TURNS)],\n",
    "                       pred['question_tokens'][turn],\n",
    "                       (10,10))\n",
    "\n"
   ]
  },
  {
   "cell_type": "markdown",
   "metadata": {},
   "source": [
    "## Metrics to get\n",
    "\n",
    "1. % of time turn t - k gets highest attention score\n",
    "2. histogram of num_followups in dialog snippets\n",
    "3. "
   ]
  },
  {
   "cell_type": "code",
   "execution_count": null,
   "metadata": {},
   "outputs": [],
   "source": []
  },
  {
   "cell_type": "code",
   "execution_count": null,
   "metadata": {},
   "outputs": [],
   "source": []
  }
 ],
 "metadata": {
  "kernelspec": {
   "display_name": "QuAC",
   "language": "python",
   "name": "quac"
  },
  "language_info": {
   "codemirror_mode": {
    "name": "ipython",
    "version": 3
   },
   "file_extension": ".py",
   "mimetype": "text/x-python",
   "name": "python",
   "nbconvert_exporter": "python",
   "pygments_lexer": "ipython3",
   "version": "3.6.5"
  }
 },
 "nbformat": 4,
 "nbformat_minor": 2
}
